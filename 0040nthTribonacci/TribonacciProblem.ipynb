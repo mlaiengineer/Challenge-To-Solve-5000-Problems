{
 "cells": [
  {
   "cell_type": "markdown",
   "id": "aa1bf1ac-b523-456a-b2ed-152a1696f1ad",
   "metadata": {
    "editable": true,
    "slideshow": {
     "slide_type": ""
    },
    "tags": []
   },
   "source": [
    "### 🔁 First Approach: **Recursive Solution**\n",
    "\n",
    "In this initial approach, I tackled the `Tribonacci problem` using **recursion**. The idea behind recursion is to solve a problem by breaking it down into smaller sub-problems of the same type.\n",
    "\n",
    "While this method is conceptually elegant and straightforward to implement, it often leads to redundant computations and exponential time complexity, especially if no memoization is used. It's a great starting point for understanding the problem's structure before moving on to optimization techniques.\n"
   ]
  },
  {
   "cell_type": "code",
   "execution_count": 1,
   "id": "6ede2750-037b-4603-8cb8-b0214157da14",
   "metadata": {
    "editable": true,
    "slideshow": {
     "slide_type": "fragment"
    },
    "tags": []
   },
   "outputs": [
    {
     "name": "stdout",
     "output_type": "stream",
     "text": [
      "The tribonacci of 5 is 7\n"
     ]
    }
   ],
   "source": [
    "def tribonacci (n):\n",
    "    #base case\n",
    "    if n == 0:\n",
    "        return 0\n",
    "    if n == 1 or n == 2:\n",
    "        return 1\n",
    "\n",
    "    #recursive case\n",
    "    return tribonacci(n -1) + tribonacci(n - 2) + tribonacci(n - 3)\n",
    "#test cases\n",
    "print(f\"The tribonacci of 5 is {tribonacci(5)}\")"
   ]
  },
  {
   "cell_type": "markdown",
   "id": "9c61245b-8445-4085-8d12-68102e9d9563",
   "metadata": {
    "editable": true,
    "slideshow": {
     "slide_type": "fragment"
    },
    "tags": []
   },
   "source": [
    "### ⚙️ Second Approach: **Iterative Solution**\n",
    "\n",
    "This solution uses an **iterative** strategy, which is often more efficient and faster than recursive methods, particularly when dealing with large inputs and avoiding the overhead of function calls.\n",
    "\n",
    "By using loops and stepwise computation, the iterative approach minimizes memory usage and offers better control over execution flow. It's especially effective when the problem has a straightforward state transition and doesn't require backtracking or branching.\n"
   ]
  },
  {
   "cell_type": "code",
   "execution_count": 2,
   "id": "5ea6d365-087c-48a2-9de6-9d9da74012a5",
   "metadata": {
    "editable": true,
    "slideshow": {
     "slide_type": ""
    },
    "tags": []
   },
   "outputs": [
    {
     "name": "stdout",
     "output_type": "stream",
     "text": [
      "The tribonacci of 5 is 7\n"
     ]
    }
   ],
   "source": [
    "class Solution(object):\n",
    "    def tribonacci(self, n):\n",
    "        \"\"\"\n",
    "        Calculate the n-th Tribonacci number using an iterative approach.\n",
    "\n",
    "        The Tribonacci sequence is a generalization of the Fibonacci sequence where each term\n",
    "        is the sum of the three preceding ones. It starts as:\n",
    "        T(0) = 0, T(1) = 1, T(2) = 1, T(3) = 2, T(4) = 4, T(5) = 7, T(6) = 13, ...\n",
    "\n",
    "        Parameters:\n",
    "            n (int): The index (n >= 0) of the Tribonacci number to compute.\n",
    "\n",
    "        Returns:\n",
    "            int: The n-th Tribonacci number.\n",
    "\n",
    "        Time Complexity:\n",
    "            O(n) – A single loop from 3 to n.\n",
    "\n",
    "        Space Complexity:\n",
    "            O(1) – Constant space used for variables (no recursion or extra memory).\n",
    "        \"\"\"\n",
    "\n",
    "        # Base cases\n",
    "        if n == 0:\n",
    "            return 0\n",
    "        if n == 1 or n == 2:\n",
    "            return 1\n",
    "\n",
    "        # Initialize the first three values\n",
    "        prev = 0      # T(n - 3)\n",
    "        second = 1    # T(n - 2)\n",
    "        third = 1     # T(n - 1)\n",
    "        current = 0   # T(n)\n",
    "\n",
    "        # Iteratively compute up to n\n",
    "        for index in range(3, n + 1):\n",
    "            current = prev + second + third\n",
    "            prev = second\n",
    "            second = third\n",
    "            third = current\n",
    "\n",
    "        return current\n",
    "\n",
    "# ------------------------------\n",
    "# Example usage and test cases\n",
    "# ------------------------------\n",
    "if __name__ == \"__main__\":\n",
    "    solution = Solution()\n",
    "\n",
    "    # Test Case 1: T(4) = 4\n",
    "    assert solution.tribonacci(4) == 4, \"Test Case 1 Failed\"\n",
    "\n",
    "    # Test Case 2: T(6) = 13\n",
    "    assert solution.tribonacci(6) == 13, \"Test Case 2 Failed\"\n",
    "\n",
    "    print(\"All test cases passed.\")\n"
   ]
  },
  {
   "cell_type": "markdown",
   "id": "fa960d80-d564-48e9-aebd-68500fa2e28b",
   "metadata": {
    "editable": true,
    "slideshow": {
     "slide_type": ""
    },
    "tags": []
   },
   "source": [
    "### 🧠 Third Approach: **Memoization**\n",
    "\n",
    "In this approach, I solved the problem using **memoization**, a technique where we store solutions to sub-problems to avoid redundant computations and efficiently solve the original problem.\n",
    "\n",
    "Memoization helps reduce the time complexity by caching intermediate results, especially in problems with overlapping subproblems, such as recursive dynamic programming. Instead of recalculating, we simply retrieve the solution from memory when needed.\n"
   ]
  },
  {
   "cell_type": "code",
   "execution_count": 4,
   "id": "ea36bd3a-6ef9-401f-9ab4-a10d7d25e01c",
   "metadata": {
    "editable": true,
    "slideshow": {
     "slide_type": ""
    },
    "tags": []
   },
   "outputs": [
    {
     "name": "stdout",
     "output_type": "stream",
     "text": [
      "The Tribonacci of 5 is 7\n"
     ]
    }
   ],
   "source": [
    "def tribonacci(n, ht={0: 0, 1: 1, 2: 1}):\n",
    "    \"\"\"\n",
    "    Calculates the nth Tribonacci number using top-down memoization.\n",
    "\n",
    "    The Tribonacci sequence extends the Fibonacci concept by summing the previous \n",
    "    three terms to generate the next one:\n",
    "        T(n) = T(n-1) + T(n-2) + T(n-3)\n",
    "\n",
    "    Parameters:\n",
    "    - n (int): The index of the Tribonacci number to compute.\n",
    "    - ht (dict): A hash table (dictionary) storing already-computed Tribonacci values.\n",
    "\n",
    "    Returns:\n",
    "    - int: The nth Tribonacci number.\n",
    "\n",
    "    Time Complexity:\n",
    "    - O(n) — Each value of n from 0 to n is computed once and stored.\n",
    "\n",
    "    Space Complexity:\n",
    "    - O(n) — The hash table stores up to n computed values, and the call stack \n",
    "            grows up to depth n (without tail recursion optimization).\n",
    "    \"\"\"\n",
    "    \n",
    "    # ✅ Base case: If the result is already computed, return it from the hash table\n",
    "    if n in ht:\n",
    "        return ht[n]\n",
    "\n",
    "    # 🧠 Recursive case: Compute and store the result for future reuse\n",
    "    ht[n] = tribonacci(n - 1, ht) + tribonacci(n - 2, ht) + tribonacci(n - 3, ht)\n",
    "    return ht[n]\n",
    "\n",
    "# 🚀 Test the function\n",
    "print(f\"The Tribonacci of 5 is {tribonacci(5)}\")  # Output: 7"
   ]
  },
  {
   "cell_type": "markdown",
   "id": "a36b2ade-ffc2-4901-9aa2-c98bf3501f9a",
   "metadata": {
    "editable": true,
    "slideshow": {
     "slide_type": ""
    },
    "tags": []
   },
   "source": [
    "### 📊 Fourth Approach: **Tabulation**\n",
    "In this approach, I solved the `Tribonacci Problem` using **tabulation**, a bottom-up dynamic programming technique where we iteratively build a solution starting from the base cases.\n",
    "\n",
    "Tabulation avoids recursion and stores intermediate results in a structured way—usually in an array or table—allowing efficient computation without redundant calls.\n",
    "\n",
    "This method is particularly effective when the problem size is known in advance, and it helps optimize both performance and space.\n",
    "\n",
    "**Time Complexity**: O(n) — We compute each Tribonacci number once, iterating from 3 to n.  \n",
    "**Space Complexity**: O(n) — We store all computed values in a table up to n (can be optimized to O(1) if only last 3 values are retained) and `We solved it above in the second approach`.\n"
   ]
  },
  {
   "cell_type": "code",
   "execution_count": 12,
   "id": "4c5e8ec8-9892-4903-95b9-72f174f6b971",
   "metadata": {
    "editable": true,
    "slideshow": {
     "slide_type": ""
    },
    "tags": []
   },
   "outputs": [],
   "source": [
    "def tribonacci(n: int) -> int:\n",
    "    \"\"\"\n",
    "    Compute the n-th Tribonacci number using bottom-up tabulation.\n",
    "\n",
    "    Recurrence:\n",
    "        For n >= 3,  T(n) = T(n-1) + T(n-2) + T(n-3)\n",
    "        Base cases:  T(0) = 0, T(1) = 1, T(2) = 1\n",
    "\n",
    "    Parameters:\n",
    "    - n (int): Index of the Tribonacci number (n >= 0).\n",
    "\n",
    "    Returns:\n",
    "    - int: The n-th Tribonacci number.\n",
    "\n",
    "    Time Complexity:\n",
    "    - O(n) — Single pass from 3 to n.\n",
    "\n",
    "    Space Complexity:\n",
    "    - O(n) — Stores all values up to n (can be reduced to O(1) with a rolling window).\n",
    "    \"\"\"\n",
    "    # Input validation (helps catch silent bugs)\n",
    "    if not isinstance(n, int):\n",
    "        raise TypeError(\"n must be an integer\")\n",
    "    if n < 0:\n",
    "        raise ValueError(\"n must be non-negative\")\n",
    "\n",
    "    # Base cases\n",
    "    if n == 0:\n",
    "        return 0\n",
    "    if n == 1 or n == 2:\n",
    "        return 1\n",
    "\n",
    "    # Bottom-up table fill\n",
    "    dp_table = [0] * (n + 1)\n",
    "    dp_table[0], dp_table[1], dp_table[2] = 0, 1, 1\n",
    "\n",
    "    for index in range(3, n + 1):\n",
    "        dp_table[index] = (\n",
    "            dp_table[index - 1] +\n",
    "            dp_table[index - 2] +\n",
    "            dp_table[index - 3]\n",
    "        )\n",
    "\n",
    "    return dp_table[n]\n"
   ]
  },
  {
   "cell_type": "code",
   "execution_count": 13,
   "id": "8aa2ccd6-abae-4447-ba10-4e547e22e6b9",
   "metadata": {
    "editable": true,
    "slideshow": {
     "slide_type": ""
    },
    "tags": []
   },
   "outputs": [
    {
     "name": "stdout",
     "output_type": "stream",
     "text": [
      "All tabulation tests passed.\n"
     ]
    }
   ],
   "source": [
    "#test the solution\n",
    "assert tribonacci(0) == 0\n",
    "assert tribonacci(1) == 1\n",
    "assert tribonacci(2) == 1\n",
    "assert tribonacci(3) == 2\n",
    "assert tribonacci(4) == 4\n",
    "assert tribonacci(5) == 7\n",
    "assert tribonacci(6) == 13\n",
    "\n",
    "print(\"All tabulation tests passed.\")\n"
   ]
  }
 ],
 "metadata": {
  "kernelspec": {
   "display_name": "Python [conda env:base] *",
   "language": "python",
   "name": "conda-base-py"
  },
  "language_info": {
   "codemirror_mode": {
    "name": "ipython",
    "version": 3
   },
   "file_extension": ".py",
   "mimetype": "text/x-python",
   "name": "python",
   "nbconvert_exporter": "python",
   "pygments_lexer": "ipython3",
   "version": "3.13.5"
  }
 },
 "nbformat": 4,
 "nbformat_minor": 5
}
