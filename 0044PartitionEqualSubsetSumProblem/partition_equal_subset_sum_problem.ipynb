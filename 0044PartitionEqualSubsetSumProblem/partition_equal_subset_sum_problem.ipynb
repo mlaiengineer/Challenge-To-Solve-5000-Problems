{
 "cells": [
  {
   "cell_type": "markdown",
   "id": "f719f857-0066-47cd-b9c9-fcf4bf78cb8b",
   "metadata": {},
   "source": [
    "# 🧮 Partition Equal Subset Sum Problem\n",
    "\n",
    "This notebook explains the **Partition Equal Subset Sum Problem** using a Python implementation.\n",
    "\n",
    "---\n",
    "\n",
    "## 📌 Problem Statement\n",
    "\n",
    "We need to determine whether a given list of integers can be partitioned into two subsets such that:\n",
    "\n",
    "- Both subsets have **equal sums**.\n",
    "\n",
    "---\n",
    "\n",
    "## 🚀 Solution Approach\n",
    "\n",
    "### Key Idea:\n",
    "- Compute the **total sum** of the array.\n",
    "- If the sum is **odd**, partition is **impossible**.\n",
    "- Otherwise, check if there exists a subset with sum = **(total_sum / 2)**.\n",
    "- Use a **set-based dynamic programming** approach to track possible subset sums.\n",
    "\n",
    "---\n",
    "\n",
    "## 📝 Python Implementation\n"
   ]
  },
  {
   "cell_type": "code",
   "execution_count": 2,
   "id": "721cf6f8-9868-4274-a70b-1eff0c712c6f",
   "metadata": {},
   "outputs": [],
   "source": [
    "class Solution(object):\n",
    "    def canPartition(self, nums):\n",
    "        \"\"\"\n",
    "        Determines if the given array can be partitioned into two subsets \n",
    "        with equal sums.\n",
    "\n",
    "        Args:\n",
    "        nums (List[int]): The list of integers.\n",
    "\n",
    "        Returns:\n",
    "        bool: True if the array can be partitioned into two subsets with equal sums, False otherwise.\n",
    "        \"\"\"\n",
    "        # Calculate the total sum of all elements in the array\n",
    "        total_sum = sum(nums)\n",
    "        \n",
    "        # If the total sum is odd, it's impossible to split the array into two equal subsets\n",
    "        if total_sum % 2 != 0:\n",
    "            return False\n",
    "        \n",
    "        # Target is half of the total sum (what each subset should sum to)\n",
    "        target_sum = total_sum // 2\n",
    "        \n",
    "        # Use a set to track possible subset sums\n",
    "        possible_sums = {0}\n",
    "        \n",
    "        # Iterate through each number in the array\n",
    "        for number in nums:\n",
    "            # Create a temporary set to store new sums for this iteration\n",
    "            new_sums = set()\n",
    "            \n",
    "            # Check all existing sums in the possible_sums set\n",
    "            for current_sum in possible_sums:\n",
    "                # Add the current number to the existing sum to form a new sum\n",
    "                new_sum = current_sum + number\n",
    "                new_sums.add(new_sum)\n",
    "            \n",
    "            # Update the possible_sums set with the new sums\n",
    "            possible_sums.update(new_sums)\n",
    "        \n",
    "        # If the target sum exists in the possible sums, return True\n",
    "        return target_sum in possible_sums\n"
   ]
  },
  {
   "cell_type": "markdown",
   "id": "1861ec16-a376-421d-b1f8-7934b3aab398",
   "metadata": {},
   "source": [
    "---\n",
    "\n",
    "## ✅ Test Cases\n"
   ]
  },
  {
   "cell_type": "code",
   "execution_count": 3,
   "id": "872b55b0-b747-4120-94e0-69e6ac0f9886",
   "metadata": {},
   "outputs": [
    {
     "name": "stdout",
     "output_type": "stream",
     "text": [
      "True\n",
      "False\n",
      "False\n"
     ]
    }
   ],
   "source": [
    "# Test cases\n",
    "test_solution = Solution()\n",
    "\n",
    "# Test Case 1: Evenly divisible into two subsets\n",
    "nums1 = [1, 5, 11, 5]\n",
    "print(test_solution.canPartition(nums1))  # Expected output: True\n",
    "\n",
    "# Test Case 2: Cannot be partitioned\n",
    "nums2 = [1, 2, 3, 5]\n",
    "print(test_solution.canPartition(nums2))  # Expected output: False\n",
    "\n",
    "# Test Case 3: Single element (edge case)\n",
    "nums3 = [7]\n",
    "print(test_solution.canPartition(nums3))  # Expected output: False\n"
   ]
  },
  {
   "cell_type": "markdown",
   "id": "38bf9525-a84b-4c4b-b063-40ef1af7e352",
   "metadata": {},
   "source": [
    "---\n",
    "\n",
    "## ⏱️ Time and Space Complexity Analysis\n",
    "\n",
    "### Time Complexity:\n",
    "- We iterate through all `n` numbers.\n",
    "- For each number, we try to update possible subset sums.\n",
    "- In the worst case, the number of possible sums grows up to **target_sum** (≈ total_sum / 2).\n",
    "- **Time Complexity:**  \n",
    "  \\[\n",
    "  O(n \\times \\text{target_sum})\n",
    "  \\]\n",
    "\n",
    "### Space Complexity:\n",
    "- We maintain a set of possible sums.\n",
    "- The size of this set can grow up to **target_sum**.\n",
    "- **Space Complexity:**  \n",
    "  \\[\n",
    "  O(\\text{target_sum})\n",
    "  \\]\n",
    "\n",
    "---\n",
    "\n",
    "## 📊 Summary\n",
    "\n",
    "- **Algorithm Used:** Subset Sum with Set (Dynamic Programming)\n",
    "- **Time Complexity:** `O(n × target_sum)`  \n",
    "- **Space Complexity:** `O(target_sum)`  \n",
    "- **Strength:** Efficient for moderate input sizes  \n",
    "- **Limitation:** Can be slow if `target_sum` is very large  \n",
    "\n",
    "---\n"
   ]
  }
 ],
 "metadata": {
  "kernelspec": {
   "display_name": "Python [conda env:base] *",
   "language": "python",
   "name": "conda-base-py"
  },
  "language_info": {
   "codemirror_mode": {
    "name": "ipython",
    "version": 3
   },
   "file_extension": ".py",
   "mimetype": "text/x-python",
   "name": "python",
   "nbconvert_exporter": "python",
   "pygments_lexer": "ipython3",
   "version": "3.13.5"
  }
 },
 "nbformat": 4,
 "nbformat_minor": 5
}
